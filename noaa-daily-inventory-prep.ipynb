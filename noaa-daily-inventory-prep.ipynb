{
 "cells": [
  {
   "cell_type": "markdown",
   "metadata": {},
   "source": [
    "# GHCND Inventory Data Prep\n",
    "#### Description:\n",
    "This notebook is used to prep the data contained in ghcnd-inventory.txt. Use noaa-daily-retrieve-files-ftp.ipynb to download this file among other metadta files used in the NOAA Daily Weather Project. \n",
    "\n",
    "System of Origin Data Source: https://www1.ncdc.noaa.gov/pub/data/ghcn/daily/ghcnd-inventory.txt\n",
    "\n",
    "#### Data Prep Operations:\n",
    "- define english column names\n",
    "- save to .csv file (tab separated)\n",
    "\n",
    "#### Created by:\n",
    "Nate Muth <br>\n",
    "nmuth87@gmail.com\n",
    "\n",
    "#### Created on:\n",
    "8/5/2018\n",
    "\n",
    "#### Changelog:\n",
    "8/5/2018 - Initial Create Date<br>"
   ]
  },
  {
   "cell_type": "code",
   "execution_count": 2,
   "metadata": {},
   "outputs": [],
   "source": [
    "import pandas as pd"
   ]
  },
  {
   "cell_type": "code",
   "execution_count": 11,
   "metadata": {},
   "outputs": [],
   "source": [
    "# read inventory.txt into DataFrame\n",
    "inventoryDF = pd.read_fwf('ghcnd-inventory.txt', header=None, delimiter=' '\n",
    "                         , widths=[12,9,10,5,5,5]\n",
    "                         , names=['StationID', 'Latitude', 'Longitude', 'Element',\n",
    "                                 'FirstYear', 'LastYear']\n",
    "                         #, dtypes={'WMO_ID':object}\n",
    "                         )"
   ]
  },
  {
   "cell_type": "code",
   "execution_count": 12,
   "metadata": {},
   "outputs": [
    {
     "data": {
      "text/html": [
       "<div>\n",
       "<style scoped>\n",
       "    .dataframe tbody tr th:only-of-type {\n",
       "        vertical-align: middle;\n",
       "    }\n",
       "\n",
       "    .dataframe tbody tr th {\n",
       "        vertical-align: top;\n",
       "    }\n",
       "\n",
       "    .dataframe thead th {\n",
       "        text-align: right;\n",
       "    }\n",
       "</style>\n",
       "<table border=\"1\" class=\"dataframe\">\n",
       "  <thead>\n",
       "    <tr style=\"text-align: right;\">\n",
       "      <th></th>\n",
       "      <th>StationID</th>\n",
       "      <th>Latitude</th>\n",
       "      <th>Longitude</th>\n",
       "      <th>Element</th>\n",
       "      <th>FirstYear</th>\n",
       "      <th>LastYear</th>\n",
       "    </tr>\n",
       "  </thead>\n",
       "  <tbody>\n",
       "    <tr>\n",
       "      <th>583588</th>\n",
       "      <td>USW00014942</td>\n",
       "      <td>41.3103</td>\n",
       "      <td>-95.8992</td>\n",
       "      <td>TMAX</td>\n",
       "      <td>1948</td>\n",
       "      <td>2018</td>\n",
       "    </tr>\n",
       "    <tr>\n",
       "      <th>583589</th>\n",
       "      <td>USW00014942</td>\n",
       "      <td>41.3103</td>\n",
       "      <td>-95.8992</td>\n",
       "      <td>TMIN</td>\n",
       "      <td>1948</td>\n",
       "      <td>2018</td>\n",
       "    </tr>\n",
       "    <tr>\n",
       "      <th>583590</th>\n",
       "      <td>USW00014942</td>\n",
       "      <td>41.3103</td>\n",
       "      <td>-95.8992</td>\n",
       "      <td>PRCP</td>\n",
       "      <td>1948</td>\n",
       "      <td>2018</td>\n",
       "    </tr>\n",
       "    <tr>\n",
       "      <th>583591</th>\n",
       "      <td>USW00014942</td>\n",
       "      <td>41.3103</td>\n",
       "      <td>-95.8992</td>\n",
       "      <td>SNOW</td>\n",
       "      <td>1948</td>\n",
       "      <td>2018</td>\n",
       "    </tr>\n",
       "    <tr>\n",
       "      <th>583592</th>\n",
       "      <td>USW00014942</td>\n",
       "      <td>41.3103</td>\n",
       "      <td>-95.8992</td>\n",
       "      <td>SNWD</td>\n",
       "      <td>1948</td>\n",
       "      <td>2018</td>\n",
       "    </tr>\n",
       "  </tbody>\n",
       "</table>\n",
       "</div>"
      ],
      "text/plain": [
       "          StationID  Latitude  Longitude Element  FirstYear  LastYear\n",
       "583588  USW00014942   41.3103   -95.8992    TMAX       1948      2018\n",
       "583589  USW00014942   41.3103   -95.8992    TMIN       1948      2018\n",
       "583590  USW00014942   41.3103   -95.8992    PRCP       1948      2018\n",
       "583591  USW00014942   41.3103   -95.8992    SNOW       1948      2018\n",
       "583592  USW00014942   41.3103   -95.8992    SNWD       1948      2018"
      ]
     },
     "execution_count": 12,
     "metadata": {},
     "output_type": "execute_result"
    }
   ],
   "source": [
    "inventoryDF[inventoryDF['StationID']=='USW00014942'].head()"
   ]
  },
  {
   "cell_type": "code",
   "execution_count": 14,
   "metadata": {},
   "outputs": [],
   "source": [
    "# Write file to local directory\n",
    "inventoryDF.to_csv('ghcnd-inventory-cleansed.csv',sep='\\t')"
   ]
  },
  {
   "cell_type": "code",
   "execution_count": null,
   "metadata": {},
   "outputs": [],
   "source": []
  }
 ],
 "metadata": {
  "kernelspec": {
   "display_name": "Python 3",
   "language": "python",
   "name": "python3"
  },
  "language_info": {
   "codemirror_mode": {
    "name": "ipython",
    "version": 3
   },
   "file_extension": ".py",
   "mimetype": "text/x-python",
   "name": "python",
   "nbconvert_exporter": "python",
   "pygments_lexer": "ipython3",
   "version": "3.6.5"
  }
 },
 "nbformat": 4,
 "nbformat_minor": 2
}
