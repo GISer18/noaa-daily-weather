{
 "cells": [
  {
   "cell_type": "code",
   "execution_count": 4,
   "metadata": {},
   "outputs": [],
   "source": [
    "from ftplib import FTP\n",
    "import pandas as pd\n",
    "import os"
   ]
  },
  {
   "cell_type": "code",
   "execution_count": 11,
   "metadata": {},
   "outputs": [
    {
     "data": {
      "text/plain": [
       "'250 CWD command successful'"
      ]
     },
     "execution_count": 11,
     "metadata": {},
     "output_type": "execute_result"
    }
   ],
   "source": [
    "# connect to NOAA FTP site and navigate to the daily folder\n",
    "ftp = FTP('ftp.ncdc.noaa.gov')\n",
    "ftp.login()\n",
    "ftp.cwd('pub/data/ghcn/daily')"
   ]
  },
  {
   "cell_type": "code",
   "execution_count": 12,
   "metadata": {},
   "outputs": [],
   "source": [
    "def retrieveFile(fileName):\n",
    "    \"\"\"\n",
    "Downloads a file from a configured FTP site.\n",
    "\n",
    "Params\n",
    "------\n",
    "fileName : name of file on FTP site to download\n",
    "\n",
    "Example FTP Config\n",
    "------------------\n",
    "ftp = FTP('ftp.ncdc.noaa.gov')\n",
    "ftp.login()\n",
    "ftp.cwd('pub/data/ghcn/daily')\n",
    "    \"\"\"\n",
    "\n",
    "    # setting up local file for retrieval\n",
    "    localFile = open(fileName, 'wb')\n",
    "    \n",
    "    # actual ftp retrieve\n",
    "    ftp.retrbinary('RETR {}'.format(fileName),localFile.write,8*1024)"
   ]
  },
  {
   "cell_type": "code",
   "execution_count": 13,
   "metadata": {},
   "outputs": [],
   "source": [
    "# Retrieve stations file\n",
    "retrieveFile('ghcnd-stations.txt')\n",
    "\n",
    "# Retrieve states file\n",
    "retrieveFile('ghcnd-states.txt')\n",
    "\n",
    "# Retrieve countries file\n",
    "retrieveFile('ghcnd-countries.txt')"
   ]
  },
  {
   "cell_type": "code",
   "execution_count": 15,
   "metadata": {},
   "outputs": [
    {
     "data": {
      "text/plain": [
       "'226 Transfer complete'"
      ]
     },
     "execution_count": 15,
     "metadata": {},
     "output_type": "execute_result"
    }
   ],
   "source": [
    "# change to all/ directory\n",
    "ftp.cwd('all/')\n",
    "\n",
    "# write lilnes in all/ directory to ftpLines list\n",
    "ftpLines = []\n",
    "ftp.retrlines('LIST', ftpLines.append)"
   ]
  },
  {
   "cell_type": "code",
   "execution_count": 19,
   "metadata": {},
   "outputs": [],
   "source": [
    "# iterate through ftpLines and trimmed down the string text to just the filename\n",
    "fileList = []\n",
    "for i in range(0,(len(ftpLines)-1)):\n",
    "    fileList.append(ftpLines[i][-15:])\n",
    "\n",
    "# then make a DataFrame out of the list\n",
    "fileList_DF = pd.DataFrame(fileList,columns=['StationFile'])"
   ]
  },
  {
   "cell_type": "code",
   "execution_count": 20,
   "metadata": {},
   "outputs": [
    {
     "data": {
      "text/html": [
       "<div>\n",
       "<style scoped>\n",
       "    .dataframe tbody tr th:only-of-type {\n",
       "        vertical-align: middle;\n",
       "    }\n",
       "\n",
       "    .dataframe tbody tr th {\n",
       "        vertical-align: top;\n",
       "    }\n",
       "\n",
       "    .dataframe thead th {\n",
       "        text-align: right;\n",
       "    }\n",
       "</style>\n",
       "<table border=\"1\" class=\"dataframe\">\n",
       "  <thead>\n",
       "    <tr style=\"text-align: right;\">\n",
       "      <th></th>\n",
       "      <th>StationFile</th>\n",
       "    </tr>\n",
       "  </thead>\n",
       "  <tbody>\n",
       "    <tr>\n",
       "      <th>0</th>\n",
       "      <td>ACW00011604.dly</td>\n",
       "    </tr>\n",
       "    <tr>\n",
       "      <th>1</th>\n",
       "      <td>ACW00011647.dly</td>\n",
       "    </tr>\n",
       "    <tr>\n",
       "      <th>2</th>\n",
       "      <td>AE000041196.dly</td>\n",
       "    </tr>\n",
       "    <tr>\n",
       "      <th>3</th>\n",
       "      <td>AEM00041194.dly</td>\n",
       "    </tr>\n",
       "    <tr>\n",
       "      <th>4</th>\n",
       "      <td>AEM00041217.dly</td>\n",
       "    </tr>\n",
       "  </tbody>\n",
       "</table>\n",
       "</div>"
      ],
      "text/plain": [
       "       StationFile\n",
       "0  ACW00011604.dly\n",
       "1  ACW00011647.dly\n",
       "2  AE000041196.dly\n",
       "3  AEM00041194.dly\n",
       "4  AEM00041217.dly"
      ]
     },
     "execution_count": 20,
     "metadata": {},
     "output_type": "execute_result"
    }
   ],
   "source": [
    "fileList_DF.head()"
   ]
  },
  {
   "cell_type": "code",
   "execution_count": 28,
   "metadata": {},
   "outputs": [],
   "source": [
    "# pull StationID out of StationFile by trimming the file extension\n",
    "def stationID(row):\n",
    "    return row['StationFile'][:-4]\n",
    "\n",
    "fileList_DF['StationID'] = fileList_DF.apply(stationID, axis=1)\n",
    "\n",
    "# then make StationID the index - this will make joining this data to stations.txt data easier\n",
    "fileList_DF.set_index('StationID', inplace=True)"
   ]
  },
  {
   "cell_type": "code",
   "execution_count": 29,
   "metadata": {},
   "outputs": [
    {
     "data": {
      "text/html": [
       "<div>\n",
       "<style scoped>\n",
       "    .dataframe tbody tr th:only-of-type {\n",
       "        vertical-align: middle;\n",
       "    }\n",
       "\n",
       "    .dataframe tbody tr th {\n",
       "        vertical-align: top;\n",
       "    }\n",
       "\n",
       "    .dataframe thead th {\n",
       "        text-align: right;\n",
       "    }\n",
       "</style>\n",
       "<table border=\"1\" class=\"dataframe\">\n",
       "  <thead>\n",
       "    <tr style=\"text-align: right;\">\n",
       "      <th></th>\n",
       "      <th>StationFile</th>\n",
       "    </tr>\n",
       "    <tr>\n",
       "      <th>StationID</th>\n",
       "      <th></th>\n",
       "    </tr>\n",
       "  </thead>\n",
       "  <tbody>\n",
       "    <tr>\n",
       "      <th>ACW00011604</th>\n",
       "      <td>ACW00011604.dly</td>\n",
       "    </tr>\n",
       "    <tr>\n",
       "      <th>ACW00011647</th>\n",
       "      <td>ACW00011647.dly</td>\n",
       "    </tr>\n",
       "    <tr>\n",
       "      <th>AE000041196</th>\n",
       "      <td>AE000041196.dly</td>\n",
       "    </tr>\n",
       "    <tr>\n",
       "      <th>AEM00041194</th>\n",
       "      <td>AEM00041194.dly</td>\n",
       "    </tr>\n",
       "    <tr>\n",
       "      <th>AEM00041217</th>\n",
       "      <td>AEM00041217.dly</td>\n",
       "    </tr>\n",
       "  </tbody>\n",
       "</table>\n",
       "</div>"
      ],
      "text/plain": [
       "                 StationFile\n",
       "StationID                   \n",
       "ACW00011604  ACW00011604.dly\n",
       "ACW00011647  ACW00011647.dly\n",
       "AE000041196  AE000041196.dly\n",
       "AEM00041194  AEM00041194.dly\n",
       "AEM00041217  AEM00041217.dly"
      ]
     },
     "execution_count": 29,
     "metadata": {},
     "output_type": "execute_result"
    }
   ],
   "source": [
    "fileList_DF.head()"
   ]
  },
  {
   "cell_type": "code",
   "execution_count": 32,
   "metadata": {},
   "outputs": [],
   "source": [
    "# read stations.txt into DataFrame\n",
    "stationsDF = pd.read_fwf('ghcnd-stations.txt', header=None, delimiter=' '\n",
    "                         , widths=[12,9,10,7,3,31,4,4,6]\n",
    "                         , names=['StationID', 'Latitude', 'Longitude', 'Elevation',\n",
    "                                 'State', 'Name', 'GSN Flag', 'HCN/CRN Flag', 'WMO ID']\n",
    "                         )\n",
    "\n",
    "# set StationID as the index\n",
    "stationsDF.set_index('StationID', inplace=True)"
   ]
  },
  {
   "cell_type": "code",
   "execution_count": 33,
   "metadata": {},
   "outputs": [
    {
     "data": {
      "text/html": [
       "<div>\n",
       "<style scoped>\n",
       "    .dataframe tbody tr th:only-of-type {\n",
       "        vertical-align: middle;\n",
       "    }\n",
       "\n",
       "    .dataframe tbody tr th {\n",
       "        vertical-align: top;\n",
       "    }\n",
       "\n",
       "    .dataframe thead th {\n",
       "        text-align: right;\n",
       "    }\n",
       "</style>\n",
       "<table border=\"1\" class=\"dataframe\">\n",
       "  <thead>\n",
       "    <tr style=\"text-align: right;\">\n",
       "      <th></th>\n",
       "      <th>Latitude</th>\n",
       "      <th>Longitude</th>\n",
       "      <th>Elevation</th>\n",
       "      <th>State</th>\n",
       "      <th>Name</th>\n",
       "      <th>GSN Flag</th>\n",
       "      <th>HCN/CRN Flag</th>\n",
       "      <th>WMO ID</th>\n",
       "    </tr>\n",
       "    <tr>\n",
       "      <th>StationID</th>\n",
       "      <th></th>\n",
       "      <th></th>\n",
       "      <th></th>\n",
       "      <th></th>\n",
       "      <th></th>\n",
       "      <th></th>\n",
       "      <th></th>\n",
       "      <th></th>\n",
       "    </tr>\n",
       "  </thead>\n",
       "  <tbody>\n",
       "    <tr>\n",
       "      <th>ACW00011604</th>\n",
       "      <td>17.1167</td>\n",
       "      <td>-61.7833</td>\n",
       "      <td>10.1</td>\n",
       "      <td>NaN</td>\n",
       "      <td>ST JOHNS COOLIDGE FLD</td>\n",
       "      <td>NaN</td>\n",
       "      <td>NaN</td>\n",
       "      <td>NaN</td>\n",
       "    </tr>\n",
       "    <tr>\n",
       "      <th>ACW00011647</th>\n",
       "      <td>17.1333</td>\n",
       "      <td>-61.7833</td>\n",
       "      <td>19.2</td>\n",
       "      <td>NaN</td>\n",
       "      <td>ST JOHNS</td>\n",
       "      <td>NaN</td>\n",
       "      <td>NaN</td>\n",
       "      <td>NaN</td>\n",
       "    </tr>\n",
       "    <tr>\n",
       "      <th>AE000041196</th>\n",
       "      <td>25.3330</td>\n",
       "      <td>55.5170</td>\n",
       "      <td>34.0</td>\n",
       "      <td>NaN</td>\n",
       "      <td>SHARJAH INTER. AIRP</td>\n",
       "      <td>GSN</td>\n",
       "      <td>NaN</td>\n",
       "      <td>41196.0</td>\n",
       "    </tr>\n",
       "    <tr>\n",
       "      <th>AEM00041194</th>\n",
       "      <td>25.2550</td>\n",
       "      <td>55.3640</td>\n",
       "      <td>10.4</td>\n",
       "      <td>NaN</td>\n",
       "      <td>DUBAI INTL</td>\n",
       "      <td>NaN</td>\n",
       "      <td>NaN</td>\n",
       "      <td>41194.0</td>\n",
       "    </tr>\n",
       "    <tr>\n",
       "      <th>AEM00041217</th>\n",
       "      <td>24.4330</td>\n",
       "      <td>54.6510</td>\n",
       "      <td>26.8</td>\n",
       "      <td>NaN</td>\n",
       "      <td>ABU DHABI INTL</td>\n",
       "      <td>NaN</td>\n",
       "      <td>NaN</td>\n",
       "      <td>41217.0</td>\n",
       "    </tr>\n",
       "  </tbody>\n",
       "</table>\n",
       "</div>"
      ],
      "text/plain": [
       "             Latitude  Longitude  Elevation State                   Name  \\\n",
       "StationID                                                                  \n",
       "ACW00011604   17.1167   -61.7833       10.1   NaN  ST JOHNS COOLIDGE FLD   \n",
       "ACW00011647   17.1333   -61.7833       19.2   NaN               ST JOHNS   \n",
       "AE000041196   25.3330    55.5170       34.0   NaN    SHARJAH INTER. AIRP   \n",
       "AEM00041194   25.2550    55.3640       10.4   NaN             DUBAI INTL   \n",
       "AEM00041217   24.4330    54.6510       26.8   NaN         ABU DHABI INTL   \n",
       "\n",
       "            GSN Flag HCN/CRN Flag   WMO ID  \n",
       "StationID                                   \n",
       "ACW00011604      NaN          NaN      NaN  \n",
       "ACW00011647      NaN          NaN      NaN  \n",
       "AE000041196      GSN          NaN  41196.0  \n",
       "AEM00041194      NaN          NaN  41194.0  \n",
       "AEM00041217      NaN          NaN  41217.0  "
      ]
     },
     "execution_count": 33,
     "metadata": {},
     "output_type": "execute_result"
    }
   ],
   "source": [
    "stationsDF.head()"
   ]
  },
  {
   "cell_type": "code",
   "execution_count": null,
   "metadata": {},
   "outputs": [],
   "source": []
  }
 ],
 "metadata": {
  "kernelspec": {
   "display_name": "Python 3",
   "language": "python",
   "name": "python3"
  },
  "language_info": {
   "codemirror_mode": {
    "name": "ipython",
    "version": 3
   },
   "file_extension": ".py",
   "mimetype": "text/x-python",
   "name": "python",
   "nbconvert_exporter": "python",
   "pygments_lexer": "ipython3",
   "version": "3.6.5"
  }
 },
 "nbformat": 4,
 "nbformat_minor": 2
}
