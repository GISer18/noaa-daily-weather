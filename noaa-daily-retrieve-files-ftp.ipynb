{
 "cells": [
  {
   "cell_type": "markdown",
   "metadata": {},
   "source": [
    "# NOAA Retrieve Files via FTP\n",
    "#### Description:\n",
    "This notebook is used to retrieve NOAA Daily Files through a public FTP connection and place them in the current working directory.\n",
    "\n",
    "Source: https://www1.ncdc.noaa.gov/pub/data/ghcn/daily/\n",
    "\n",
    "#### Files Retrieved:\n",
    "- ghcnd-stations.txt\n",
    "- ghcnd-states.txt\n",
    "- ghcnd-countries.txt\n",
    "- ghcnd-inventory.txt\n",
    "\n",
    "#### Created by:\n",
    "Nate Muth <br>\n",
    "nmuth87@gmail.com\n",
    "\n",
    "#### Created on:\n",
    "7/29/2018\n",
    "\n",
    "#### Changelog:\n",
    "7/29/2018 - Initial Create Date<br>\n",
    "8/5/2018 - Added lists of files to download in each directory in the config section<br>\n",
    "8/9/2018 - Updated to use NOAA FTP wrapper; deleted old"
   ]
  },
  {
   "cell_type": "code",
   "execution_count": 1,
   "metadata": {},
   "outputs": [],
   "source": [
    "# CONFIG\n",
    "\n",
    "# metadataFiles are stored in the root folder\n",
    "metadataFiles = ['ghcnd-stations.txt' # Retrieve stations file\n",
    "                 ,'ghcnd-states.txt' # Retrieve states file\n",
    "                 ,'ghcnd-countries.txt' # Retrieve countries file\n",
    "                 ,'ghcnd-inventory.txt' # Retrieve inventory file\n",
    "                 ]"
   ]
  },
  {
   "cell_type": "code",
   "execution_count": 2,
   "metadata": {},
   "outputs": [],
   "source": [
    "# pull files for main folder\n",
    "import pyFTP_NOAA\n",
    "ftp = pyFTP_NOAA.ftp_noaa()\n",
    "\n",
    "for f in metadataFiles:\n",
    "    ftp.retrieveFile(f)\n",
    "    \n",
    "ftp.quit()"
   ]
  }
 ],
 "metadata": {
  "kernelspec": {
   "display_name": "Python 3",
   "language": "python",
   "name": "python3"
  },
  "language_info": {
   "codemirror_mode": {
    "name": "ipython",
    "version": 3
   },
   "file_extension": ".py",
   "mimetype": "text/x-python",
   "name": "python",
   "nbconvert_exporter": "python",
   "pygments_lexer": "ipython3",
   "version": "3.6.5"
  }
 },
 "nbformat": 4,
 "nbformat_minor": 2
}
