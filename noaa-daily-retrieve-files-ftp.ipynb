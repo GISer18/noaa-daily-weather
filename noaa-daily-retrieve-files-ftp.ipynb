{
 "cells": [
  {
   "cell_type": "markdown",
   "metadata": {},
   "source": [
    "# NOAA Retrieve Files via FTP\n",
    "#### Description:\n",
    "This notebook is used to retrieve NOAA Daily Files through a public FTP connection and place them in the current working directory.\n",
    "\n",
    "Source: https://www1.ncdc.noaa.gov/pub/data/ghcn/daily/\n",
    "\n",
    "#### Files Retrieved:\n",
    "- ghcnd-stations.txt\n",
    "- ghcnd-states.txt\n",
    "- ghcnd-countries.txt\n",
    "- ghcnd-inventory.txt\n",
    "\n",
    "#### Created by:\n",
    "Nate Muth <br>\n",
    "nmuth87@gmail.com\n",
    "\n",
    "#### Created on:\n",
    "7/29/2018\n",
    "\n",
    "#### Changelog:\n",
    "7/29/2018 - Initial Create Date<br>\n",
    "8/5/2018 - Added lists of files to download in each directory in the config section<br>"
   ]
  },
  {
   "cell_type": "code",
   "execution_count": 1,
   "metadata": {},
   "outputs": [],
   "source": [
    "# CONFIG\n",
    "\n",
    "# metadataFiles are stored in the root folder\n",
    "metadataFiles = ['ghcnd-stations.txt' # Retrieve stations file\n",
    "                 ,'ghcnd-states.txt' # Retrieve states file\n",
    "                 ,'ghcnd-countries.txt' # Retrieve countries file\n",
    "                 ,'ghcnd-inventory.txt' # Retrieve inventory file\n",
    "                 ]\n",
    "\n",
    "dailyFiles_folder1 = 'stations_raw_data/'\n",
    "dailyFiles_list1 = ['USC00250740.dly' # BELLEVUE, NE, USA\n",
    "                   ,'USW00027502.dly' # BARROW POST ROGERS AP, AK, USA\n",
    "                   ,'AGM00060670.dly' # TISKA, ALGERIA (Sahara Desert)\n",
    "                   ,'MX000766800.dly' # MEXICO CITY, MEXICO\n",
    "                   ,'JA000047662.dly' # TOKYO, JAPAN\n",
    "                   ]\n",
    "\n",
    "dailyFiles_folder2 = 'midwest20/'\n",
    "dailyFiles_list2 = ['US1ILCK0036.dly' # Chicago, IL\n",
    "                    ,'USC00331778.dly' # Columbus, OH\n",
    "                    ,'USC00128271.dly' # Indianapolis, IN\n",
    "                    ,'USC00475469.dly' # Milwaukee, WI\n",
    "                    ,'USW00014822.dly' # Detroit, MI\n",
    "                    ,'USW00093821.dly' # Louisville, KY\n",
    "                    ,'USC00234379.dly' # Kansas City, MO\n",
    "                    ,'USW00014942.dly' # Omaha, NE\n",
    "                    ,'USW00014922.dly' # Minneapolis, MN\n",
    "                    ,'USW00003974.dly' # Wichita, KS\n",
    "                    ,'USW00004853.dly' # Cleveland, OH\n",
    "                    ,'USW00093820.dly' # Lexington, KY\n",
    "                    ,'USC00237452.dly' # St. Louis, MO\n",
    "                    ,'USC00218450.dly' # St. Paul, MN\n",
    "                    ,'USW00003871.dly' # Cincinnati, OH\n",
    "                    ,'USC00254810.dly' # Lincoln, NE\n",
    "                    ,'USC00338351.dly' # Toledo, OH\n",
    "                    ,'US1INAL0037.dly' # Fort Wayne, IN\n",
    "                    ,'USW00014837.dly' # Madison, WI\n",
    "                    ,'USW00014933.dly' # Des Moines, IA\n",
    "                    ]"
   ]
  },
  {
   "cell_type": "code",
   "execution_count": 2,
   "metadata": {},
   "outputs": [],
   "source": [
    "from ftplib import FTP\n",
    "import pandas as pd\n",
    "import os"
   ]
  },
  {
   "cell_type": "code",
   "execution_count": 3,
   "metadata": {},
   "outputs": [
    {
     "data": {
      "text/plain": [
       "'250 CWD command successful'"
      ]
     },
     "execution_count": 3,
     "metadata": {},
     "output_type": "execute_result"
    }
   ],
   "source": [
    "# connect to NOAA FTP site and navigate to the daily folder\n",
    "ftp = FTP('ftp.ncdc.noaa.gov')\n",
    "ftp.login()\n",
    "ftp.cwd('pub/data/ghcn/daily')"
   ]
  },
  {
   "cell_type": "code",
   "execution_count": 4,
   "metadata": {},
   "outputs": [],
   "source": [
    "def retrieveFile(fileName, folder=''):\n",
    "    \"\"\"\n",
    "Downloads a file from a configured FTP site.\n",
    "\n",
    "Params\n",
    "------\n",
    "fileName : name of file on FTP site to download\n",
    "\n",
    "Example FTP Config\n",
    "------------------\n",
    "ftp = FTP('ftp.ncdc.noaa.gov')\n",
    "ftp.login()\n",
    "ftp.cwd('pub/data/ghcn/daily')\n",
    "    \"\"\"\n",
    "\n",
    "    # setting up local file for retrieval\n",
    "    localFile = open((folder + fileName), 'wb')\n",
    "    \n",
    "    # actual ftp retrieve\n",
    "    ftp.retrbinary('RETR {}'.format(fileName),localFile.write,8*1024)\n",
    "    \n",
    "for f in metadataFiles:\n",
    "    retrieveFile(f)"
   ]
  },
  {
   "cell_type": "markdown",
   "metadata": {},
   "source": [
    "### Switch to all/ directory and retrieve dailyFiles lists"
   ]
  },
  {
   "cell_type": "code",
   "execution_count": 7,
   "metadata": {},
   "outputs": [],
   "source": [
    "# change to all/ directory\n",
    "ftp.cwd('all/')\n",
    "\n",
    "# get files for list1\n",
    "for f in dailyFiles_list1:\n",
    "    retrieveFile(f,dailyFiles_folder1)\n",
    "    \n",
    "# get files for list2\n",
    "for f in dailyFiles_list2:\n",
    "    retrieveFile(f,dailyFiles_folder2)"
   ]
  },
  {
   "cell_type": "markdown",
   "metadata": {},
   "source": [
    "### file list in directory into pandas DataFrame - informational"
   ]
  },
  {
   "cell_type": "code",
   "execution_count": 6,
   "metadata": {},
   "outputs": [
    {
     "data": {
      "text/plain": [
       "'226 Transfer complete'"
      ]
     },
     "execution_count": 6,
     "metadata": {},
     "output_type": "execute_result"
    }
   ],
   "source": [
    "# write lilnes in all/ directory to ftpLines list\n",
    "ftpLines = []\n",
    "ftp.retrlines('LIST', ftpLines.append)"
   ]
  },
  {
   "cell_type": "code",
   "execution_count": 7,
   "metadata": {},
   "outputs": [],
   "source": [
    "# iterate through ftpLines and trimmed down the string text to just the filename\n",
    "fileList = []\n",
    "for i in range(0,(len(ftpLines)-1)):\n",
    "    fileList.append(ftpLines[i][-15:])\n",
    "\n",
    "# then make a DataFrame out of the list\n",
    "fileList_DF = pd.DataFrame(fileList,columns=['StationFile'])"
   ]
  },
  {
   "cell_type": "code",
   "execution_count": 8,
   "metadata": {},
   "outputs": [
    {
     "data": {
      "text/html": [
       "<div>\n",
       "<style scoped>\n",
       "    .dataframe tbody tr th:only-of-type {\n",
       "        vertical-align: middle;\n",
       "    }\n",
       "\n",
       "    .dataframe tbody tr th {\n",
       "        vertical-align: top;\n",
       "    }\n",
       "\n",
       "    .dataframe thead th {\n",
       "        text-align: right;\n",
       "    }\n",
       "</style>\n",
       "<table border=\"1\" class=\"dataframe\">\n",
       "  <thead>\n",
       "    <tr style=\"text-align: right;\">\n",
       "      <th></th>\n",
       "      <th>StationFile</th>\n",
       "    </tr>\n",
       "  </thead>\n",
       "  <tbody>\n",
       "    <tr>\n",
       "      <th>0</th>\n",
       "      <td>ACW00011604.dly</td>\n",
       "    </tr>\n",
       "    <tr>\n",
       "      <th>1</th>\n",
       "      <td>ACW00011647.dly</td>\n",
       "    </tr>\n",
       "    <tr>\n",
       "      <th>2</th>\n",
       "      <td>AE000041196.dly</td>\n",
       "    </tr>\n",
       "    <tr>\n",
       "      <th>3</th>\n",
       "      <td>AEM00041194.dly</td>\n",
       "    </tr>\n",
       "    <tr>\n",
       "      <th>4</th>\n",
       "      <td>AEM00041217.dly</td>\n",
       "    </tr>\n",
       "  </tbody>\n",
       "</table>\n",
       "</div>"
      ],
      "text/plain": [
       "       StationFile\n",
       "0  ACW00011604.dly\n",
       "1  ACW00011647.dly\n",
       "2  AE000041196.dly\n",
       "3  AEM00041194.dly\n",
       "4  AEM00041217.dly"
      ]
     },
     "execution_count": 8,
     "metadata": {},
     "output_type": "execute_result"
    }
   ],
   "source": [
    "fileList_DF.head()"
   ]
  },
  {
   "cell_type": "code",
   "execution_count": 9,
   "metadata": {},
   "outputs": [],
   "source": [
    "# pull StationID out of StationFile by trimming the file extension\n",
    "def stationID(row):\n",
    "    return row['StationFile'][:-4]\n",
    "\n",
    "fileList_DF['StationID'] = fileList_DF.apply(stationID, axis=1)\n",
    "\n",
    "# then make StationID the index - this will make joining this data to stations.txt data easier\n",
    "fileList_DF.set_index('StationID', inplace=True)"
   ]
  },
  {
   "cell_type": "code",
   "execution_count": 10,
   "metadata": {},
   "outputs": [
    {
     "data": {
      "text/html": [
       "<div>\n",
       "<style scoped>\n",
       "    .dataframe tbody tr th:only-of-type {\n",
       "        vertical-align: middle;\n",
       "    }\n",
       "\n",
       "    .dataframe tbody tr th {\n",
       "        vertical-align: top;\n",
       "    }\n",
       "\n",
       "    .dataframe thead th {\n",
       "        text-align: right;\n",
       "    }\n",
       "</style>\n",
       "<table border=\"1\" class=\"dataframe\">\n",
       "  <thead>\n",
       "    <tr style=\"text-align: right;\">\n",
       "      <th></th>\n",
       "      <th>StationFile</th>\n",
       "    </tr>\n",
       "    <tr>\n",
       "      <th>StationID</th>\n",
       "      <th></th>\n",
       "    </tr>\n",
       "  </thead>\n",
       "  <tbody>\n",
       "    <tr>\n",
       "      <th>ACW00011604</th>\n",
       "      <td>ACW00011604.dly</td>\n",
       "    </tr>\n",
       "    <tr>\n",
       "      <th>ACW00011647</th>\n",
       "      <td>ACW00011647.dly</td>\n",
       "    </tr>\n",
       "    <tr>\n",
       "      <th>AE000041196</th>\n",
       "      <td>AE000041196.dly</td>\n",
       "    </tr>\n",
       "    <tr>\n",
       "      <th>AEM00041194</th>\n",
       "      <td>AEM00041194.dly</td>\n",
       "    </tr>\n",
       "    <tr>\n",
       "      <th>AEM00041217</th>\n",
       "      <td>AEM00041217.dly</td>\n",
       "    </tr>\n",
       "  </tbody>\n",
       "</table>\n",
       "</div>"
      ],
      "text/plain": [
       "                 StationFile\n",
       "StationID                   \n",
       "ACW00011604  ACW00011604.dly\n",
       "ACW00011647  ACW00011647.dly\n",
       "AE000041196  AE000041196.dly\n",
       "AEM00041194  AEM00041194.dly\n",
       "AEM00041217  AEM00041217.dly"
      ]
     },
     "execution_count": 10,
     "metadata": {},
     "output_type": "execute_result"
    }
   ],
   "source": [
    "fileList_DF.head()"
   ]
  }
 ],
 "metadata": {
  "kernelspec": {
   "display_name": "Python 3",
   "language": "python",
   "name": "python3"
  },
  "language_info": {
   "codemirror_mode": {
    "name": "ipython",
    "version": 3
   },
   "file_extension": ".py",
   "mimetype": "text/x-python",
   "name": "python",
   "nbconvert_exporter": "python",
   "pygments_lexer": "ipython3",
   "version": "3.6.5"
  }
 },
 "nbformat": 4,
 "nbformat_minor": 2
}
